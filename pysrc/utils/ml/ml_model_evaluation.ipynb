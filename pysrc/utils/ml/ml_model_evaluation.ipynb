{
 "cells": [
  {
   "cell_type": "code",
   "execution_count": null,
   "metadata": {},
   "outputs": [],
   "source": [
    "import json\n",
    "import pandas as pd\n",
    "import os\n",
    "import matplotlib.pyplot as plt\n",
    "import numpy as np\n",
    "import pickle\n",
    "\n",
    "from sklearn.preprocessing import OneHotEncoder, MaxAbsScaler, MinMaxScaler, StandardScaler\n",
    "from sklearn.model_selection import train_test_split, RandomizedSearchCV\n",
    "from sklearn.metrics import recall_score, accuracy_score, f1_score, auc, roc_auc_score, precision_score, balanced_accuracy_score, fbeta_score, make_scorer\n",
    "from sklearn.inspection import permutation_importance\n",
    "\n",
    "from sklearn.tree import DecisionTreeClassifier\n",
    "from sklearn.ensemble import RandomForestClassifier\n",
    "from sklearn.linear_model import LogisticRegression, RidgeClassifier\n",
    "from sklearn.svm import SVC\n",
    "\n"
   ]
  },
  {
   "cell_type": "code",
   "execution_count": null,
   "metadata": {},
   "outputs": [],
   "source": [
    "def scoring(clf, X, y):\n",
    "    scores = {}\n",
    "    y_pred = clf.predict(X)\n",
    "    scores['recall'] = recall_score(y, y_pred)\n",
    "    scores['accuracy'] = accuracy_score(y, y_pred)\n",
    "    scores['f1'] = f1_score(y, y_pred)\n",
    "    scores['precision'] = precision_score(y, y_pred)\n",
    "    scores['balanced_accuracy'] = balanced_accuracy_score(y, y_pred)\n",
    "    \n",
    "    return scores"
   ]
  },
  {
   "cell_type": "code",
   "execution_count": null,
   "metadata": {},
   "outputs": [],
   "source": [
    "sub_folders = [f for f in os.listdir('.') if os.path.isdir(f) and 'no_' in f]\n",
    "\n",
    "\n",
    "model_scores = {}\n",
    "for dataset in ['CATH', 'CENSUS', 'COMA', 'ENSEMBL', 'SCOP', 'TCPH', 'TESMA']:\n",
    "    dataset_scores = {}\n",
    "    \n",
    "    data_file = f'data_{dataset}.json'\n",
    "    model_folder = f'no_{dataset}'\n",
    "    \n",
    "    forest_model = pickle.load(f'./{model_folder}/forest_model.pkl')\n",
    "    logreg_model = pickle.load(f'./{model_folder}/logreg_model.pkl')\n",
    "    svc_model = pickle.load(f'./{model_folder}/svc_model.pkl')\n",
    "    tree_model = pickle.load(f'./{model_folder}/tree_model.pkl')\n",
    "    \n",
    "    features = pd.read_csv(f'./features_{dataset}.csv', index_col=0)\n",
    "    labels = pd.read_csv(f'./labels_{dataset}.csv', index_col=0).to_numpy().ravel()\n",
    "    \n",
    "    dataset_scores['DecisionTree'] = scoring(tree_model, features, labels)\n",
    "    dataset_scores['RandomForest'] = scoring(tree_model, features, labels)\n",
    "    dataset_scores['SVC'] = scoring(tree_model, features, labels)\n",
    "    dataset_scores['LogisticRegression'] = scoring(tree_model, features, labels)    \n",
    "    \n",
    "    model_scores[dataset] = dataset_scores\n",
    "    "
   ]
  }
 ],
 "metadata": {
  "kernelspec": {
   "display_name": "Python 3",
   "language": "python",
   "name": "python3"
  },
  "language_info": {
   "name": "python",
   "version": "3.10.6 (main, Nov 14 2022, 16:10:14) [GCC 11.3.0]"
  },
  "orig_nbformat": 4,
  "vscode": {
   "interpreter": {
    "hash": "916dbcbb3f70747c44a77c7bcd40155683ae19c65e1c03b4aa3499c5328201f1"
   }
  }
 },
 "nbformat": 4,
 "nbformat_minor": 2
}
